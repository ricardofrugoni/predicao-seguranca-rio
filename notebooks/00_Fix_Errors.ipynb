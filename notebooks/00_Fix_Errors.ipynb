{
  "cells": [
    {
      "cell_type": "markdown",
      "metadata": {},
      "source": [
        "# 🔧 CORREÇÃO DE ERROS - PROJETO VIOLÊNCIA RJ\n",
        "\n",
        "Este notebook corrige todos os erros de importação e variáveis indefinidas.\n"
      ]
    },
    {
      "cell_type": "code",
      "execution_count": null,
      "metadata": {},
      "outputs": [],
      "source": [
        "# ============================================================================\n",
        "# 1. CORREÇÃO DE IMPORTAÇÕES\n",
        "# ============================================================================\n",
        "\n",
        "import pandas as pd\n",
        "import numpy as np\n",
        "from datetime import datetime\n",
        "import warnings\n",
        "warnings.filterwarnings('ignore')\n",
        "\n",
        "# Importações condicionais\n",
        "try:\n",
        "    import matplotlib.pyplot as plt\n",
        "    MATPLOTLIB_AVAILABLE = True\n",
        "except ImportError:\n",
        "    MATPLOTLIB_AVAILABLE = False\n",
        "    print(\"⚠️ Matplotlib não disponível.\")\n",
        "\n",
        "try:\n",
        "    import seaborn as sns\n",
        "    SEABORN_AVAILABLE = True\n",
        "except ImportError:\n",
        "    SEABORN_AVAILABLE = False\n",
        "    print(\"⚠️ Seaborn não disponível.\")\n",
        "\n",
        "try:\n",
        "    import plotly.express as px\n",
        "    import plotly.graph_objects as go\n",
        "    from plotly.subplots import make_subplots\n",
        "    PLOTLY_AVAILABLE = True\n",
        "except ImportError:\n",
        "    PLOTLY_AVAILABLE = False\n",
        "    print(\"⚠️ Plotly não disponível.\")\n",
        "\n",
        "try:\n",
        "    import geopandas as gpd\n",
        "    GEOPANDAS_AVAILABLE = True\n",
        "except ImportError:\n",
        "    GEOPANDAS_AVAILABLE = False\n",
        "    print(\"⚠️ GeoPandas não disponível.\")\n",
        "\n",
        "try:\n",
        "    from tqdm import tqdm\n",
        "    TQDM_AVAILABLE = True\n",
        "except ImportError:\n",
        "    TQDM_AVAILABLE = False\n",
        "    print(\"⚠️ tqdm não disponível.\")\n",
        "\n",
        "print(\"✅ Importações corrigidas!\")\n",
        "print(f\"📊 Matplotlib: {'✅' if MATPLOTLIB_AVAILABLE else '❌'}\")\n",
        "print(f\"🎨 Seaborn: {'✅' if SEABORN_AVAILABLE else '❌'}\")\n",
        "print(f\"📈 Plotly: {'✅' if PLOTLY_AVAILABLE else '❌'}\")\n",
        "print(f\"🗺️ GeoPandas: {'✅' if GEOPANDAS_AVAILABLE else '❌'}\")\n",
        "print(f\"📊 tqdm: {'✅' if TQDM_AVAILABLE else '❌'}\")\n"
      ]
    }
  ],
  "metadata": {
    "language_info": {
      "name": "python"
    }
  },
  "nbformat": 4,
  "nbformat_minor": 2
}
