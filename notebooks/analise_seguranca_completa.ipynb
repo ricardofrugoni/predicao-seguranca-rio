{
  "cells": [
    {
      "cell_type": "markdown",
      "metadata": {},
      "source": [
        "# 🔒 Análise Completa de Segurança Pública - Rio de Janeiro\n",
        "\n",
        "## 📊 Análise dos Últimos 12 Meses dos Principais Crimes\n",
        "\n",
        "Este notebook realiza uma análise completa de segurança pública do Rio de Janeiro, integrando dados de múltiplas fontes:\n",
        "- **ISP-RJ** (Instituto de Segurança Pública)\n",
        "- **IBGE** (Dados demográficos)\n",
        "- **DataRio** (Dados territoriais)\n",
        "- **ONGs** (Fogo Cruzado, Observatório da Segurança)\n",
        "- **Mídia Digital** (Notícias e redes sociais)\n",
        "\n",
        "### 🎯 Objetivos:\n",
        "1. Mapear níveis de violência por regiões com graduação de cores\n",
        "2. Analisar principais crimes dos últimos 12 meses\n",
        "3. Identificar padrões temporais e espaciais\n",
        "4. Criar visualizações interativas\n"
      ]
    },
    {
      "cell_type": "code",
      "execution_count": null,
      "metadata": {},
      "outputs": [],
      "source": [
        "\n"
      ]
    }
  ],
  "metadata": {
    "language_info": {
      "name": "python"
    }
  },
  "nbformat": 4,
  "nbformat_minor": 2
}
