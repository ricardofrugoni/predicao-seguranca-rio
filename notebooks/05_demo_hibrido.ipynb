{
  "cells": [
    {
      "cell_type": "markdown",
      "metadata": {},
      "source": [
        "# 05 - Demonstração da Arquitetura Híbrida Python + R\n",
        "\n",
        "Este notebook demonstra a arquitetura híbrida otimizada para análise de violência no Rio de Janeiro, combinando:\n",
        "\n",
        "## Arquitetura Híbrida\n",
        "\n",
        "1. **Análises PESADAS em R** → Executadas 1x, resultados em cache\n",
        "2. **Predições RÁPIDAS** → Python nativo ou rpy2 leve\n",
        "3. **Interface 100% Python/Streamlit**\n",
        "\n",
        "## Vantagens da Arquitetura\n",
        "\n",
        "- ⚡ **Performance**: Análises pesadas em cache, predições em tempo real\n",
        "- 🎯 **UX**: Interface nunca trava\n",
        "- 🔧 **Manutenção**: Fácil debug e deploy\n",
        "- 🚀 **Deploy**: Streamlit Cloud compatível\n",
        "\n",
        "## Estrutura da Demonstração\n",
        "\n",
        "- **Seção 1**: Configuração do ambiente híbrido\n",
        "- **Seção 2**: Análises pesadas em R (Moran's I, KDE)\n",
        "- **Seção 3**: Predições rápidas em Python\n",
        "- **Seção 4**: Integração Python-R via rpy2\n",
        "- **Seção 5**: Cache inteligente\n",
        "- **Seção 6**: Dashboard Streamlit\n"
      ]
    }
  ],
  "metadata": {
    "language_info": {
      "name": "python"
    }
  },
  "nbformat": 4,
  "nbformat_minor": 2
}
