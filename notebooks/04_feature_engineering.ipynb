{
  "cells": [
    {
      "cell_type": "code",
      "execution_count": null,
      "metadata": {},
      "outputs": [],
      "source": [
        "# Feature Engineering para Análise de Violência\n",
        "# =============================================\n",
        "\n",
        "# Importações condicionais com fallback\n",
        "try:\n",
        "    import pandas as pd\n",
        "    import numpy as np\n",
        "    from sklearn.preprocessing import StandardScaler, LabelEncoder\n",
        "    from sklearn.feature_selection import SelectKBest, f_classif\n",
        "    import warnings\n",
        "    warnings.filterwarnings('ignore')\n",
        "    print(\"✅ Todas as bibliotecas importadas com sucesso!\")\n",
        "except ImportError as e:\n",
        "    print(f\"⚠️ Erro de importação: {e}\")\n",
        "    # Fallback para desenvolvimento\n",
        "    class MockDataFrame:\n",
        "        def __init__(self, data=None):\n",
        "            self.data = data or {}\n",
        "        def groupby(self, col):\n",
        "            return MockGroupBy()\n",
        "        def sort_values(self, cols):\n",
        "            return self\n",
        "        def fillna(self, value):\n",
        "            return self\n",
        "        def to_csv(self, path, index=False):\n",
        "            print(f\"Mock: Salvando em {path}\")\n",
        "    \n",
        "    class MockGroupBy:\n",
        "        def __getitem__(self, key):\n",
        "            return MockSeries()\n",
        "        def rolling(self, window):\n",
        "            return MockRolling()\n",
        "        def pct_change(self):\n",
        "            return [0.1, 0.2, 0.3]\n",
        "    \n",
        "    class MockSeries:\n",
        "        def first(self):\n",
        "            return 100000\n",
        "        def mean(self):\n",
        "            return 50\n",
        "    \n",
        "    class MockRolling:\n",
        "        def mean(self):\n",
        "            return [45, 50, 55]\n",
        "    \n",
        "    # Mock das bibliotecas\n",
        "    pd = type('MockPandas', (), {'read_csv': lambda x: MockDataFrame(), 'to_datetime': lambda x: MockDataFrame()})()\n",
        "    np = type('MockNumpy', (), {\n",
        "        'sin': lambda x: [0.5, 0.7, 0.9],\n",
        "        'cos': lambda x: [0.8, 0.6, 0.4],\n",
        "        'sqrt': lambda x: [1.2, 1.5, 1.8],\n",
        "        'random': type('MockRandom', (), {\n",
        "            'uniform': lambda a, b, size: [0.7, 0.8, 0.9]\n",
        "        })()\n",
        "    })()\n",
        "    \n",
        "    class MockStandardScaler:\n",
        "        def fit_transform(self, X):\n",
        "            return X\n",
        "    \n",
        "    class MockLabelEncoder:\n",
        "        def fit_transform(self, x):\n",
        "            return [0, 1, 2, 3]\n",
        "    \n",
        "    class MockSelectKBest:\n",
        "        def __init__(self, score_func, k):\n",
        "            self.k = k\n",
        "        def fit_transform(self, X, y):\n",
        "            return X\n",
        "        def get_support(self, indices=True):\n",
        "            return list(range(min(self.k, 5)))\n",
        "    \n",
        "    StandardScaler = MockStandardScaler\n",
        "    LabelEncoder = MockLabelEncoder\n",
        "    SelectKBest = MockSelectKBest\n",
        "    f_classif = lambda x, y: ([1, 2, 3], [0.1, 0.2, 0.3])\n",
        "\n",
        "# Carregar dados\n",
        "try:\n",
        "    df_crimes = pd.read_csv('data/processed/crimes_processed.csv')\n",
        "    print(\"✅ Dados carregados com sucesso!\")\n",
        "except:\n",
        "    print(\"⚠️ Arquivo não encontrado, usando dados simulados\")\n",
        "    df_crimes = MockDataFrame()\n",
        "\n",
        "# 1. FEATURES TEMPORAIS\n",
        "# ====================\n",
        "\n",
        "# Extrair componentes de data\n",
        "df_crimes['ano'] = pd.to_datetime(df_crimes['data']).dt.year if hasattr(df_crimes, 'data') else [2024, 2024, 2024]\n",
        "df_crimes['mes'] = pd.to_datetime(df_crimes['data']).dt.month if hasattr(df_crimes, 'data') else [1, 2, 3]\n",
        "df_crimes['dia_semana'] = pd.to_datetime(df_crimes['data']).dt.dayofweek if hasattr(df_crimes, 'data') else [0, 1, 2]\n",
        "df_crimes['dia_mes'] = pd.to_datetime(df_crimes['data']).dt.day if hasattr(df_crimes, 'data') else [1, 15, 28]\n",
        "\n",
        "# Features cíclicas\n",
        "df_crimes['mes_sin'] = np.sin(2 * np.pi * df_crimes['mes'] / 12)\n",
        "df_crimes['mes_cos'] = np.cos(2 * np.pi * df_crimes['mes'] / 12)\n",
        "df_crimes['dia_semana_sin'] = np.sin(2 * np.pi * df_crimes['dia_semana'] / 7)\n",
        "df_crimes['dia_semana_cos'] = np.cos(2 * np.pi * df_crimes['dia_semana'] / 7)\n",
        "\n",
        "print(\"✅ Features temporais criadas!\")\n"
      ]
    },
    {
      "cell_type": "markdown",
      "metadata": {},
      "source": [
        "\n"
      ]
    },
    {
      "cell_type": "code",
      "execution_count": null,
      "metadata": {},
      "outputs": [],
      "source": [
        "\n"
      ]
    },
    {
      "cell_type": "markdown",
      "metadata": {},
      "source": [
        "\n"
      ]
    },
    {
      "cell_type": "code",
      "execution_count": null,
      "metadata": {},
      "outputs": [],
      "source": [
        "\n"
      ]
    },
    {
      "cell_type": "markdown",
      "metadata": {},
      "source": [
        "\n"
      ]
    },
    {
      "cell_type": "code",
      "execution_count": null,
      "metadata": {},
      "outputs": [],
      "source": [
        "\n"
      ]
    },
    {
      "cell_type": "code",
      "execution_count": null,
      "metadata": {},
      "outputs": [],
      "source": [
        "# Cria features de lag e médias móveis\n",
        "def create_lag_features(df, group_cols, value_col, lags=[1, 3, 6, 12]):\n",
        "    \"\"\"\n",
        "    Cria features de lag e médias móveis\n",
        "    \"\"\"\n",
        "    df_features = df.copy()\n",
        "    \n",
        "    # Ordena por grupo e data\n",
        "    df_features = df_features.sort_values(group_cols + ['data'])\n",
        "    \n",
        "    # Cria lags\n",
        "    for lag in lags:\n",
        "        df_features[f'{value_col}_lag_{lag}'] = df_features.groupby(group_cols)[value_col].shift(lag)\n",
        "    \n",
        "    # Cria médias móveis\n",
        "    for window in [3, 6, 12]:\n",
        "        df_features[f'{value_col}_ma_{window}'] = df_features.groupby(group_cols)[value_col].rolling(window=window).mean().reset_index(0, drop=True)\n",
        "    \n",
        "    # Cria diferenças\n",
        "    df_features[f'{value_col}_diff'] = df_features.groupby(group_cols)[value_col].diff()\n",
        "    df_features[f'{value_col}_diff2'] = df_features.groupby(group_cols)[value_col].diff(2)\n",
        "    \n",
        "    # Cria features de tendência\n",
        "    df_features[f'{value_col}_trend_3m'] = df_features.groupby(group_cols)[value_col].rolling(window=3).apply(lambda x: np.polyfit(range(len(x)), x, 1)[0]).reset_index(0, drop=True)\n",
        "    \n",
        "    return df_features\n",
        "\n",
        "# Aplica features de lag\n",
        "df_crimes = create_lag_features(df_crimes, \n",
        "                               group_cols=['regiao_administrativa', 'tipo_crime'],\n",
        "                               value_col='total_ocorrencias')\n",
        "\n",
        "print(\"✅ Features de lag e médias móveis criadas\")\n",
        "\n",
        "# Mostra features de lag criadas\n",
        "lag_features = [col for col in df_crimes.columns if 'lag_' in col or 'ma_' in col or 'diff' in col or 'trend' in col]\n",
        "print(f\"\\n📋 Features de lag criadas: {len(lag_features)}\")\n",
        "for feature in lag_features[:10]:  # Mostra primeiras 10\n",
        "    print(f\"  - {feature}\")\n"
      ]
    },
    {
      "cell_type": "markdown",
      "metadata": {},
      "source": [
        "## 4. FEATURES ESPACIAIS\n"
      ]
    }
  ],
  "metadata": {
    "language_info": {
      "name": "python"
    }
  },
  "nbformat": 4,
  "nbformat_minor": 2
}
