{
  "cells": [
    {
      "cell_type": "code",
      "execution_count": null,
      "metadata": {},
      "outputs": [],
      "source": [
        "\n"
      ]
    },
    {
      "cell_type": "markdown",
      "metadata": {},
      "source": [
        "\n"
      ]
    },
    {
      "cell_type": "code",
      "execution_count": null,
      "metadata": {},
      "outputs": [],
      "source": [
        "\n"
      ]
    },
    {
      "cell_type": "markdown",
      "metadata": {},
      "source": [
        "\n"
      ]
    },
    {
      "cell_type": "code",
      "execution_count": null,
      "metadata": {},
      "outputs": [],
      "source": [
        "\n"
      ]
    },
    {
      "cell_type": "markdown",
      "metadata": {},
      "source": [
        "\n"
      ]
    },
    {
      "cell_type": "code",
      "execution_count": null,
      "metadata": {},
      "outputs": [],
      "source": [
        "\n"
      ]
    },
    {
      "cell_type": "code",
      "execution_count": null,
      "metadata": {},
      "outputs": [],
      "source": [
        "# Cria features de lag e médias móveis\n",
        "def create_lag_features(df, group_cols, value_col, lags=[1, 3, 6, 12]):\n",
        "    \"\"\"\n",
        "    Cria features de lag e médias móveis\n",
        "    \"\"\"\n",
        "    df_features = df.copy()\n",
        "    \n",
        "    # Ordena por grupo e data\n",
        "    df_features = df_features.sort_values(group_cols + ['data'])\n",
        "    \n",
        "    # Cria lags\n",
        "    for lag in lags:\n",
        "        df_features[f'{value_col}_lag_{lag}'] = df_features.groupby(group_cols)[value_col].shift(lag)\n",
        "    \n",
        "    # Cria médias móveis\n",
        "    for window in [3, 6, 12]:\n",
        "        df_features[f'{value_col}_ma_{window}'] = df_features.groupby(group_cols)[value_col].rolling(window=window).mean().reset_index(0, drop=True)\n",
        "    \n",
        "    # Cria diferenças\n",
        "    df_features[f'{value_col}_diff'] = df_features.groupby(group_cols)[value_col].diff()\n",
        "    df_features[f'{value_col}_diff2'] = df_features.groupby(group_cols)[value_col].diff(2)\n",
        "    \n",
        "    # Cria features de tendência\n",
        "    df_features[f'{value_col}_trend_3m'] = df_features.groupby(group_cols)[value_col].rolling(window=3).apply(lambda x: np.polyfit(range(len(x)), x, 1)[0]).reset_index(0, drop=True)\n",
        "    \n",
        "    return df_features\n",
        "\n",
        "# Aplica features de lag\n",
        "df_crimes = create_lag_features(df_crimes, \n",
        "                               group_cols=['regiao_administrativa', 'tipo_crime'],\n",
        "                               value_col='total_ocorrencias')\n",
        "\n",
        "print(\"✅ Features de lag e médias móveis criadas\")\n",
        "\n",
        "# Mostra features de lag criadas\n",
        "lag_features = [col for col in df_crimes.columns if 'lag_' in col or 'ma_' in col or 'diff' in col or 'trend' in col]\n",
        "print(f\"\\n📋 Features de lag criadas: {len(lag_features)}\")\n",
        "for feature in lag_features[:10]:  # Mostra primeiras 10\n",
        "    print(f\"  - {feature}\")\n"
      ]
    },
    {
      "cell_type": "markdown",
      "metadata": {},
      "source": [
        "## 4. FEATURES ESPACIAIS\n"
      ]
    }
  ],
  "metadata": {
    "language_info": {
      "name": "python"
    }
  },
  "nbformat": 4,
  "nbformat_minor": 2
}
