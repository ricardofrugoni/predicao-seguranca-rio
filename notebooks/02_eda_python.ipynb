{
  "cells": [
    {
      "cell_type": "markdown",
      "metadata": {},
      "source": [
        "\n"
      ]
    },
    {
      "cell_type": "code",
      "execution_count": null,
      "metadata": {},
      "outputs": [],
      "source": [
        "# ============================================================================\n",
        "# 1. IMPORTAÇÃO DE BIBLIOTECAS E CONFIGURAÇÃO\n",
        "# ============================================================================\n",
        "\n",
        "import pandas as pd\n",
        "import numpy as np\n",
        "from pathlib import Path\n",
        "import warnings\n",
        "from datetime import datetime\n",
        "import json\n",
        "\n",
        "# Importações condicionais para evitar erros\n",
        "try:\n",
        "    import matplotlib.pyplot as plt\n",
        "    MATPLOTLIB_AVAILABLE = True\n",
        "except ImportError:\n",
        "    MATPLOTLIB_AVAILABLE = False\n",
        "    print(\"⚠️ Matplotlib não disponível.\")\n",
        "\n",
        "try:\n",
        "    import seaborn as sns\n",
        "    SEABORN_AVAILABLE = True\n",
        "except ImportError:\n",
        "    SEABORN_AVAILABLE = False\n",
        "    print(\"⚠️ Seaborn não disponível.\")\n",
        "\n",
        "try:\n",
        "    import plotly.express as px\n",
        "    import plotly.graph_objects as go\n",
        "    from plotly.subplots import make_subplots\n",
        "    PLOTLY_AVAILABLE = True\n",
        "except ImportError:\n",
        "    PLOTLY_AVAILABLE = False\n",
        "    print(\"⚠️ Plotly não disponível.\")\n",
        "\n",
        "try:\n",
        "    import geopandas as gpd\n",
        "    GEOPANDAS_AVAILABLE = True\n",
        "except ImportError:\n",
        "    GEOPANDAS_AVAILABLE = False\n",
        "    print(\"⚠️ GeoPandas não disponível.\")\n",
        "\n",
        "# Configuração de visualização\n",
        "if MATPLOTLIB_AVAILABLE:\n",
        "    plt.style.use('default')\n",
        "if SEABORN_AVAILABLE:\n",
        "    sns.set_palette(\"husl\")\n",
        "\n",
        "warnings.filterwarnings('ignore')\n",
        "\n",
        "print(\"✅ Bibliotecas importadas com sucesso!\")\n",
        "print(f\"📊 Matplotlib: {'✅' if MATPLOTLIB_AVAILABLE else '❌'}\")\n",
        "print(f\"🎨 Seaborn: {'✅' if SEABORN_AVAILABLE else '❌'}\")\n",
        "print(f\"📈 Plotly: {'✅' if PLOTLY_AVAILABLE else '❌'}\")\n",
        "print(f\"🗺️ GeoPandas: {'✅' if GEOPANDAS_AVAILABLE else '❌'}\")\n",
        "\n",
        "# Configuração de diretórios\n",
        "BASE_DIR = Path('.')\n",
        "DATA_DIR = BASE_DIR / 'data'\n",
        "RAW_DIR = DATA_DIR / 'raw'\n",
        "PROCESSED_DIR = DATA_DIR / 'processed'\n",
        "SHAPEFILE_DIR = DATA_DIR / 'shapefiles'\n",
        "OUTPUT_DIR = BASE_DIR / 'outputs' / 'figures'\n",
        "\n",
        "# Cria diretório de saída\n",
        "OUTPUT_DIR.mkdir(parents=True, exist_ok=True)\n",
        "\n",
        "print(\"✅ Bibliotecas importadas com sucesso!\")\n",
        "print(f\"📁 Diretório de saída: {OUTPUT_DIR.absolute()}\")\n",
        "\n",
        "# Configuração de plotly\n",
        "import plotly.io as pio\n",
        "pio.templates.default = \"plotly_white\"\n"
      ]
    },
    {
      "cell_type": "markdown",
      "metadata": {},
      "source": [
        "## 2. CARREGAMENTO E PREPARAÇÃO DOS DADOS\n"
      ]
    },
    {
      "cell_type": "code",
      "execution_count": null,
      "metadata": {},
      "outputs": [],
      "source": [
        "# Carrega dados consolidados\n",
        "df_crimes = pd.read_csv(PROCESSED_DIR / 'crimes_consolidado.csv')\n",
        "print(f\"📊 Dados carregados: {len(df_crimes):,} registros\")\n",
        "\n",
        "# Carrega dados geoespaciais\n",
        "gdf_crimes = gpd.read_file(PROCESSED_DIR / 'crimes_geo.geojson')\n",
        "print(f\"🗺️ Dados geoespaciais: {len(gdf_crimes):,} registros\")\n",
        "\n",
        "# Informações básicas dos dados\n",
        "print(\"\\n📋 INFORMAÇÕES BÁSICAS:\")\n",
        "print(f\"Período: {df_crimes['ano'].min()} - {df_crimes['ano'].max()}\")\n",
        "print(f\"Regiões: {df_crimes['regiao_administrativa'].nunique()}\")\n",
        "print(f\"Tipos de crime: {df_crimes['tipo_crime'].nunique()}\")\n",
        "print(f\"Colunas: {list(df_crimes.columns)}\")\n",
        "\n",
        "# Preview dos dados\n",
        "print(\"\\n📋 Preview dos dados:\")\n",
        "print(df_crimes.head())\n",
        "\n",
        "# Estatísticas descritivas\n",
        "print(\"\\n📊 Estatísticas descritivas:\")\n",
        "print(df_crimes.describe())\n"
      ]
    },
    {
      "cell_type": "markdown",
      "metadata": {},
      "source": [
        "\n"
      ]
    },
    {
      "cell_type": "code",
      "execution_count": null,
      "metadata": {},
      "outputs": [],
      "source": [
        "\n"
      ]
    },
    {
      "cell_type": "code",
      "execution_count": null,
      "metadata": {},
      "outputs": [],
      "source": [
        "\n"
      ]
    },
    {
      "cell_type": "markdown",
      "metadata": {},
      "source": [
        "\n"
      ]
    },
    {
      "cell_type": "code",
      "execution_count": null,
      "metadata": {},
      "outputs": [],
      "source": [
        "\n"
      ]
    },
    {
      "cell_type": "markdown",
      "metadata": {},
      "source": [
        "\n"
      ]
    },
    {
      "cell_type": "code",
      "execution_count": null,
      "metadata": {},
      "outputs": [],
      "source": [
        "# Estatísticas por tipo de crime\n",
        "stats_por_tipo = df_crimes.groupby('tipo_crime').agg({\n",
        "    'total_ocorrencias': ['sum', 'mean', 'std', 'min', 'max'],\n",
        "    'taxa_100k': ['mean', 'std', 'min', 'max']\n",
        "}).round(2)\n",
        "\n",
        "print(\"📊 ESTATÍSTICAS POR TIPO DE CRIME:\")\n",
        "print(stats_por_tipo)\n",
        "\n",
        "# Gráfico de barras - total de ocorrências por tipo\n",
        "fig_barras = px.bar(\n",
        "    df_crimes.groupby('tipo_crime')['total_ocorrencias'].sum().reset_index(),\n",
        "    x='tipo_crime',\n",
        "    y='total_ocorrencias',\n",
        "    title='Total de Ocorrências por Tipo de Crime',\n",
        "    labels={'total_ocorrencias': 'Total de Ocorrências', 'tipo_crime': 'Tipo de Crime'}\n",
        ")\n",
        "\n",
        "fig_barras.update_layout(\n",
        "    width=1000,\n",
        "    height=600,\n",
        "    xaxis_title=\"Tipo de Crime\",\n",
        "    yaxis_title=\"Total de Ocorrências\",\n",
        "    xaxis_tickangle=-45\n",
        ")\n",
        "\n",
        "fig_barras.show()\n",
        "\n",
        "# Salva gráfico\n",
        "fig_barras.write_html(OUTPUT_DIR / 'barras_tipo_crime.html')\n",
        "print(\"✅ Gráfico de barras salvo\")\n"
      ]
    },
    {
      "cell_type": "markdown",
      "metadata": {},
      "source": [
        "\n"
      ]
    },
    {
      "cell_type": "code",
      "execution_count": null,
      "metadata": {},
      "outputs": [],
      "source": [
        "\n"
      ]
    },
    {
      "cell_type": "markdown",
      "metadata": {},
      "source": [
        "\n"
      ]
    },
    {
      "cell_type": "code",
      "execution_count": null,
      "metadata": {},
      "outputs": [],
      "source": [
        "\n"
      ]
    },
    {
      "cell_type": "markdown",
      "metadata": {},
      "source": [
        "\n"
      ]
    },
    {
      "cell_type": "code",
      "execution_count": null,
      "metadata": {},
      "outputs": [],
      "source": [
        "\n"
      ]
    }
  ],
  "metadata": {
    "language_info": {
      "name": "python"
    }
  },
  "nbformat": 4,
  "nbformat_minor": 2
}
